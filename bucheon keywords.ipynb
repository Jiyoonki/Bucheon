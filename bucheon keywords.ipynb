{
 "cells": [
  {
   "cell_type": "code",
   "execution_count": 2,
   "metadata": {},
   "outputs": [],
   "source": [
    "from konlpy.tag import Okt\n",
    "from collections import Counter\n",
    "import collections\n",
    "import pandas as pd\n",
    "import numpy as np\n",
    "import csv"
   ]
  },
  {
   "cell_type": "code",
   "execution_count": 30,
   "metadata": {},
   "outputs": [
    {
     "name": "stdout",
     "output_type": "stream",
     "text": [
      "5136\n"
     ]
    }
   ],
   "source": [
    "i = 1\n",
    "filepath = 'C:/Users/Jiyoon/Downloads/Telegram Desktop/장덕천통합.csv'\n",
    "\n",
    "list_1 = []\n",
    "with open(filepath) as file:\n",
    "    for line in file:\n",
    "        line = line.strip().split(\",\")\n",
    "        list_1.append(line[1])\n",
    "    \n",
    "print(len(list_1))"
   ]
  },
  {
   "cell_type": "code",
   "execution_count": 31,
   "metadata": {},
   "outputs": [],
   "source": [
    "list_2 = []\n",
    "for i in list_1[1:]:\n",
    "    list_2.append(Okt().nouns(i))"
   ]
  },
  {
   "cell_type": "code",
   "execution_count": 32,
   "metadata": {},
   "outputs": [
    {
     "data": {
      "text/plain": [
       "5135"
      ]
     },
     "execution_count": 32,
     "metadata": {},
     "output_type": "execute_result"
    }
   ],
   "source": [
    "len(list_2)"
   ]
  },
  {
   "cell_type": "code",
   "execution_count": 33,
   "metadata": {
    "scrolled": true
   },
   "outputs": [
    {
     "name": "stdout",
     "output_type": "stream",
     "text": [
      "5135\n"
     ]
    }
   ],
   "source": [
    "for i in list_2:\n",
    "    for j in i:\n",
    "        if len(j) < 2:\n",
    "            list_2[list_2.index(i)].remove(j)\n",
    "print(len(list_2))"
   ]
  },
  {
   "cell_type": "code",
   "execution_count": 34,
   "metadata": {},
   "outputs": [],
   "source": [
    "f = open('네이버_장덕천_19년07월-20년11월.csv', 'w', encoding='utf-8-sig', newline='')\n",
    "wr = csv.writer(f)\n",
    "for i in list_2:\n",
    "\n",
    "    k = \" \".join(i)\n",
    "\n",
    "            \n",
    "    wr.writerow([k])\n",
    "\n",
    "f.close()"
   ]
  },
  {
   "cell_type": "code",
   "execution_count": 35,
   "metadata": {
    "scrolled": true
   },
   "outputs": [
    {
     "name": "stdout",
     "output_type": "stream",
     "text": [
      "5135\n"
     ]
    }
   ],
   "source": [
    "counter_bucheon = collections.Counter()\n",
    "\n",
    "bucheon_list = []\n",
    "with open('C:/Users/Jiyoon/네이버_장덕천_19년07월-20년11월.csv') as file:\n",
    "    for line in file:\n",
    "        line2 = line.replace('장덕천', '')\n",
    "        line2 = line2.replace('시장님', '')\n",
    "        line_arr = line2.strip().split()\n",
    "\n",
    "        bucheon_list.append(line)\n",
    "        counter_bucheon.update(line_arr)\n",
    "            \n",
    "\n",
    "print(len(bucheon_list))"
   ]
  },
  {
   "cell_type": "code",
   "execution_count": 36,
   "metadata": {},
   "outputs": [],
   "source": [
    "word_com = counter_bucheon.most_common(100)\n",
    "word = [x[0] for x in word_com]\n",
    "count = [x[1] for x in word_com]\n",
    "\n",
    "f = open('네이버_장덕천시장_키워드100_19년07월-20년11월.csv', 'w', encoding='utf-8-sig', newline='')\n",
    "wr = csv.writer(f)\n",
    "wr.writerow([\"키워드\",\"빈도수\"])\n",
    "for i in range(len(word_com)):\n",
    "\n",
    "    wr.writerow([word[i],count[i]])\n",
    "\n",
    "f.close()"
   ]
  },
  {
   "cell_type": "code",
   "execution_count": null,
   "metadata": {},
   "outputs": [],
   "source": []
  },
  {
   "cell_type": "code",
   "execution_count": null,
   "metadata": {},
   "outputs": [],
   "source": []
  }
 ],
 "metadata": {
  "kernelspec": {
   "display_name": "Python 3 (ipykernel)",
   "language": "python",
   "name": "python3"
  },
  "language_info": {
   "codemirror_mode": {
    "name": "ipython",
    "version": 3
   },
   "file_extension": ".py",
   "mimetype": "text/x-python",
   "name": "python",
   "nbconvert_exporter": "python",
   "pygments_lexer": "ipython3",
   "version": "3.9.7"
  }
 },
 "nbformat": 4,
 "nbformat_minor": 4
}
