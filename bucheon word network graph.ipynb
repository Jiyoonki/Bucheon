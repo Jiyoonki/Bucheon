{
 "cells": [
  {
   "cell_type": "code",
   "execution_count": 2,
   "metadata": {},
   "outputs": [],
   "source": [
    "import pandas as pd\n",
    "import numpy as np\n",
    "import matplotlib.pyplot as plt\n",
    "import matplotlib.font_manager as fm\n",
    "import collections\n",
    "import networkx as nx\n",
    "from wordcloud import WordCloud\n",
    "from pyvis.network import Network\n",
    "from pyvis import network\n",
    "import csv\n",
    "%matplotlib inline"
   ]
  },
  {
   "cell_type": "code",
   "execution_count": 3,
   "metadata": {},
   "outputs": [],
   "source": [
    "counter = collections.Counter()\n",
    "\n",
    "with open('C:/Users/Jiyoon/네이버_부천시통합.csv') as file:\n",
    "    for line in file:\n",
    "        line_arr = line.strip().split()\n",
    "        counter.update(line_arr)"
   ]
  },
  {
   "cell_type": "code",
   "execution_count": 12,
   "metadata": {},
   "outputs": [
    {
     "ename": "TypeError",
     "evalue": "__init__() got an unexpected keyword argument 'font_size'",
     "output_type": "error",
     "traceback": [
      "\u001b[1;31m---------------------------------------------------------------------------\u001b[0m",
      "\u001b[1;31mTypeError\u001b[0m                                 Traceback (most recent call last)",
      "\u001b[1;32m<ipython-input-12-a8b577d739b0>\u001b[0m in \u001b[0;36m<module>\u001b[1;34m\u001b[0m\n\u001b[0;32m      4\u001b[0m \u001b[1;33m\u001b[0m\u001b[0m\n\u001b[0;32m      5\u001b[0m \u001b[0mmost_popular_words\u001b[0m \u001b[1;33m=\u001b[0m \u001b[0mword_com\u001b[0m\u001b[1;33m\u001b[0m\u001b[1;33m\u001b[0m\u001b[0m\n\u001b[1;32m----> 6\u001b[1;33m \u001b[0mnet\u001b[0m \u001b[1;33m=\u001b[0m \u001b[0mNetwork\u001b[0m\u001b[1;33m(\u001b[0m\u001b[0mwidth\u001b[0m\u001b[1;33m=\u001b[0m\u001b[1;34m'100%'\u001b[0m\u001b[1;33m,\u001b[0m \u001b[0mheight\u001b[0m\u001b[1;33m=\u001b[0m\u001b[1;34m'100%'\u001b[0m\u001b[1;33m,\u001b[0m\u001b[0mbgcolor\u001b[0m\u001b[1;33m=\u001b[0m\u001b[1;34m\"#D3D3D3\"\u001b[0m\u001b[1;33m,\u001b[0m \u001b[0mfont_color\u001b[0m\u001b[1;33m=\u001b[0m\u001b[1;34m\"black\"\u001b[0m\u001b[1;33m,\u001b[0m\u001b[0mfont_size\u001b[0m\u001b[1;33m=\u001b[0m\u001b[1;36m20\u001b[0m\u001b[1;33m,\u001b[0m\u001b[0mheading\u001b[0m\u001b[1;33m=\u001b[0m\u001b[1;34m\"네이버 2020년 01월~ 2020년 11월 \\\"부천시\\\"관련 상위 100개 키워드 네트워크 그래프\"\u001b[0m\u001b[1;33m)\u001b[0m\u001b[1;33m\u001b[0m\u001b[1;33m\u001b[0m\u001b[0m\n\u001b[0m\u001b[0;32m      7\u001b[0m \u001b[0mword_dict\u001b[0m \u001b[1;33m=\u001b[0m \u001b[1;33m{\u001b[0m\u001b[1;33m}\u001b[0m\u001b[1;33m\u001b[0m\u001b[1;33m\u001b[0m\u001b[0m\n\u001b[0;32m      8\u001b[0m \u001b[0medge_list\u001b[0m \u001b[1;33m=\u001b[0m \u001b[1;33m[\u001b[0m\u001b[1;33m]\u001b[0m\u001b[1;33m\u001b[0m\u001b[1;33m\u001b[0m\u001b[0m\n",
      "\u001b[1;31mTypeError\u001b[0m: __init__() got an unexpected keyword argument 'font_size'"
     ]
    }
   ],
   "source": [
    "word_com = []\n",
    "for i in counter.most_common(100):\n",
    "    word_com.append(i[0])\n",
    "\n",
    "most_popular_words = word_com\n",
    "net = Network(width='100%', height='100%',bgcolor=\"#D3D3D3\", font_color=\"black\",font_size=20,heading=\"네이버 2020년 01월~ 2020년 11월 \\\"부천시\\\"관련 상위 100개 키워드 네트워크 그래프\")\n",
    "word_dict = {}\n",
    "edge_list = []\n",
    "\n",
    "with open('C:/Users/Jiyoon/Downloads/Telegram Desktop/token-부천시.csv') as file:\n",
    "    for number, line in enumerate(file):\n",
    "\n",
    "        line_arr = line.strip().split()\n",
    "        temp = []\n",
    "        for word in line_arr:\n",
    "            if word in most_popular_words:\n",
    "                temp.append(word)\n",
    "                if word in word_dict: word_dict[word] += 1\n",
    "                else: word_dict[word] = 1\n",
    "\n",
    "        temp = list(set(temp))\n",
    "\n",
    "        for i in range(len(temp)):\n",
    "            for j in range(i + 1, len(temp)):\n",
    "\n",
    "                if temp[i] != temp[j]:\n",
    "                    if [temp[i], temp[j]] not in edge_list:\n",
    "                        edge_list.append([temp[i], temp[j]])\n",
    "                        #net.add_edge(line_arr[i], line_arr[j], physics= False)\n",
    "\n",
    "    standard = max(word_dict.values())\n",
    "    \n",
    "    for key, value in word_dict.items():\n",
    "\n",
    "             net.add_node(n_id=key, label=key, labelHighlightBold=True, value=(value/standard)*10)\n",
    "    for x, y in edge_list:\n",
    "        net.add_edge(x, y, physics=False)\n",
    "    \n",
    "net.show(\"네이버_부천시_그래프_20년01월-20년11월.html\")"
   ]
  },
  {
   "cell_type": "code",
   "execution_count": null,
   "metadata": {},
   "outputs": [],
   "source": []
  }
 ],
 "metadata": {
  "kernelspec": {
   "display_name": "Python 3 (ipykernel)",
   "language": "python",
   "name": "python3"
  },
  "language_info": {
   "codemirror_mode": {
    "name": "ipython",
    "version": 3
   },
   "file_extension": ".py",
   "mimetype": "text/x-python",
   "name": "python",
   "nbconvert_exporter": "python",
   "pygments_lexer": "ipython3",
   "version": "3.9.7"
  }
 },
 "nbformat": 4,
 "nbformat_minor": 4
}
